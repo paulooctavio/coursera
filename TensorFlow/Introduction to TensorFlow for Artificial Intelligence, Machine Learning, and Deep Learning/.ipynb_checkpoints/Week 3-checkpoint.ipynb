{
 "cells": [
  {
   "cell_type": "markdown",
   "metadata": {},
   "source": [
    "# Improving Computer Vision Accuracy using Convolutions"
   ]
  },
  {
   "cell_type": "markdown",
   "metadata": {},
   "source": [
    "### Imports"
   ]
  },
  {
   "cell_type": "code",
   "execution_count": 1,
   "metadata": {},
   "outputs": [],
   "source": [
    "import tensorflow as tf\n",
    "import matplotlib.pyplot as plt\n",
    "from tensorflow.keras import models"
   ]
  },
  {
   "cell_type": "markdown",
   "metadata": {},
   "source": [
    "### Load Data"
   ]
  },
  {
   "cell_type": "code",
   "execution_count": 2,
   "metadata": {},
   "outputs": [],
   "source": [
    "mnist = tf.keras.datasets.fashion_mnist\n",
    "(training_images, training_labels), (test_images, test_labels) = mnist.load_data()\n",
    "training_images=training_images / 255.0\n",
    "test_images=test_images / 255.0"
   ]
  },
  {
   "cell_type": "markdown",
   "metadata": {},
   "source": [
    "### Define, compile and train the Neural Networks"
   ]
  },
  {
   "cell_type": "code",
   "execution_count": 3,
   "metadata": {},
   "outputs": [
    {
     "name": "stdout",
     "output_type": "stream",
     "text": [
      "Epoch 1/5\n",
      "1875/1875 [==============================] - 3s 2ms/step - loss: 0.4971 - accuracy: 0.8253\n",
      "Epoch 2/5\n",
      "1875/1875 [==============================] - 3s 2ms/step - loss: 0.3719 - accuracy: 0.8660\n",
      "Epoch 3/5\n",
      "1875/1875 [==============================] - 3s 1ms/step - loss: 0.3365 - accuracy: 0.8781\n",
      "Epoch 4/5\n",
      "1875/1875 [==============================] - 3s 1ms/step - loss: 0.3127 - accuracy: 0.8854\n",
      "Epoch 5/5\n",
      "1875/1875 [==============================] - 3s 1ms/step - loss: 0.2943 - accuracy: 0.8914\n",
      "313/313 [==============================] - 0s 1ms/step - loss: 0.3434 - accuracy: 0.8772\n",
      "0.8772000074386597\n"
     ]
    }
   ],
   "source": [
    "model = models.Sequential([tf.keras.layers.Flatten(),\n",
    "                                   tf.keras.layers.Dense(128, activation='relu'),\n",
    "                                   tf.keras.layers.Dense(10, activation='softmax')])\n",
    "model.compile(optimizer='adam', loss='sparse_categorical_crossentropy', metrics=['accuracy'])\n",
    "model.fit(training_images, training_labels, epochs=5)\n",
    "\n",
    "test_loss, test_acc = model.evaluate(test_images, test_labels)\n",
    "print(test_acc)"
   ]
  },
  {
   "cell_type": "markdown",
   "metadata": {},
   "source": [
    "The same neural network as earlier, but this time with Convolutional layers added first. It takes longer, there's an impact on the accuracy:"
   ]
  },
  {
   "cell_type": "code",
   "execution_count": 4,
   "metadata": {},
   "outputs": [],
   "source": [
    "#Reshaping the input data\n",
    "training_images = training_images.reshape(60000, 28, 28, 1)\n",
    "test_images = test_images.reshape(10000, 28, 28, 1)"
   ]
  },
  {
   "cell_type": "code",
   "execution_count": 5,
   "metadata": {},
   "outputs": [
    {
     "name": "stdout",
     "output_type": "stream",
     "text": [
      "Model: \"sequential_1\"\n",
      "_________________________________________________________________\n",
      "Layer (type)                 Output Shape              Param #   \n",
      "=================================================================\n",
      "conv2d (Conv2D)              (None, 26, 26, 32)        320       \n",
      "_________________________________________________________________\n",
      "max_pooling2d (MaxPooling2D) (None, 13, 13, 32)        0         \n",
      "_________________________________________________________________\n",
      "conv2d_1 (Conv2D)            (None, 11, 11, 64)        18496     \n",
      "_________________________________________________________________\n",
      "max_pooling2d_1 (MaxPooling2 (None, 5, 5, 64)          0         \n",
      "_________________________________________________________________\n",
      "flatten_1 (Flatten)          (None, 1600)              0         \n",
      "_________________________________________________________________\n",
      "dense_2 (Dense)              (None, 128)               204928    \n",
      "_________________________________________________________________\n",
      "dense_3 (Dense)              (None, 10)                1290      \n",
      "=================================================================\n",
      "Total params: 225,034\n",
      "Trainable params: 225,034\n",
      "Non-trainable params: 0\n",
      "_________________________________________________________________\n",
      "Epoch 1/5\n",
      "1875/1875 [==============================] - 26s 14ms/step - loss: 0.4475 - accuracy: 0.8381\n",
      "Epoch 2/5\n",
      "1875/1875 [==============================] - 31s 17ms/step - loss: 0.3019 - accuracy: 0.8898\n",
      "Epoch 3/5\n",
      "1875/1875 [==============================] - 35s 18ms/step - loss: 0.2572 - accuracy: 0.9066\n",
      "Epoch 4/5\n",
      "1875/1875 [==============================] - 34s 18ms/step - loss: 0.2246 - accuracy: 0.9178\n",
      "Epoch 5/5\n",
      "1875/1875 [==============================] - 32s 17ms/step - loss: 0.1985 - accuracy: 0.9263\n",
      "313/313 [==============================] - 2s 5ms/step - loss: 0.2659 - accuracy: 0.9012\n",
      "0.901199996471405\n"
     ]
    }
   ],
   "source": [
    "model = models.Sequential([tf.keras.layers.Conv2D(32, (3,3), activation='relu', input_shape=(28,28,1)),\n",
    "                          tf.keras.layers.MaxPooling2D(2,2),\n",
    "                          tf.keras.layers.Conv2D(64, (3,3), activation='relu'),\n",
    "                          tf.keras.layers.MaxPooling2D(2,2),\n",
    "                          tf.keras.layers.Flatten(),\n",
    "                          tf.keras.layers.Dense(128, activation='relu'),\n",
    "                          tf.keras.layers.Dense(10, activation='softmax')])\n",
    "model.summary() # shows the size and shape of the network\n",
    "model.compile(optimizer='adam', loss='sparse_categorical_crossentropy', metrics=['accuracy'])\n",
    "model.fit(training_images, training_labels, epochs=5)\n",
    "test_loss, test_acc = model.evaluate(test_images, test_labels)\n",
    "print(test_acc)"
   ]
  },
  {
   "cell_type": "markdown",
   "metadata": {},
   "source": [
    "### Visualizing the Convolutions and Pooling"
   ]
  },
  {
   "cell_type": "code",
   "execution_count": 6,
   "metadata": {
    "scrolled": true
   },
   "outputs": [
    {
     "name": "stdout",
     "output_type": "stream",
     "text": [
      "[9 2 1 1 6 1 4 6 5 7 4 5 7 3 4 1 2 4 8 0 2 5 7 9 1 4 6 0 9 3 8 8 3 3 8 0 7\n",
      " 5 7 9 6 1 3 7 6 7 2 1 2 2 4 4 5 8 2 2 8 4 8 0 7 7 8 5 1 1 2 3 9 8 7 0 2 6\n",
      " 2 3 1 2 8 4 1 8 5 9 5 0 3 2 0 6 5 3 6 7 1 8 0 1 4 2]\n"
     ]
    }
   ],
   "source": [
    "print(test_labels[:100])"
   ]
  },
  {
   "cell_type": "code",
   "execution_count": 7,
   "metadata": {},
   "outputs": [],
   "source": [
    "FIRST_IMAGE = 0\n",
    "SECOND_IMAGE = 23\n",
    "THIRD_IMAGE = 28\n",
    "CONVOLUTION_NUMBER = 1"
   ]
  },
  {
   "cell_type": "code",
   "execution_count": 8,
   "metadata": {},
   "outputs": [
    {
     "data": {
      "image/png": "[encoded data removed]",
      "text/plain": [
       "<Figure size 648x360 with 15 Axes>"
      ]
     },
     "metadata": {
      "needs_background": "light"
     },
     "output_type": "display_data"
    }
   ],
   "source": [
    "def show_conv_and_pool_layers(model):\n",
    "    layer_outputs = [layer.output for layer in model.layers]\n",
    "    activation_model = models.Model(inputs = model.input, outputs = layer_outputs)\n",
    "    no_layers = len(layer_outputs) - 2 #number of layers including conv, pool and the input layer\n",
    "    f, axarr = plt.subplots(3, no_layers, figsize=(9, 5))\n",
    "    f.tight_layout(pad=0.1)\n",
    "    for i in range(1, no_layers):\n",
    "        f1 = activation_model.predict(test_images[FIRST_IMAGE].reshape(1, 28, 28, 1))[i - 1]\n",
    "        axarr[0,i].imshow(f1[0, : , :, CONVOLUTION_NUMBER], cmap='inferno')\n",
    "        axarr[0,i].grid(False)\n",
    "        f2 = activation_model.predict(test_images[SECOND_IMAGE].reshape(1, 28, 28, 1))[i - 1]\n",
    "        axarr[1,i].imshow(f2[0, : , :, CONVOLUTION_NUMBER], cmap='inferno')\n",
    "        axarr[1,i].grid(False)\n",
    "        f3 = activation_model.predict(test_images[THIRD_IMAGE].reshape(1, 28, 28, 1))[i - 1]\n",
    "        axarr[2,i].imshow(f3[0, : , :, CONVOLUTION_NUMBER], cmap='inferno')\n",
    "        axarr[2,i].grid(False)\n",
    "\n",
    "    for col in range(no_layers):\n",
    "        if col == 0:\n",
    "            axarr[0,col].set_title(\"Input\")\n",
    "        elif col%2 == 1:\n",
    "            axarr[0,col].set_title(\"Conv2D\")\n",
    "        else:\n",
    "            axarr[0,col].set_title(\"MaxPooling2D\")\n",
    "    for row, img in enumerate([FIRST_IMAGE, SECOND_IMAGE, THIRD_IMAGE]):\n",
    "        axarr[row,0].imshow(test_images[img], cmap='inferno')\n",
    "        axarr[row,0].grid(False)\n",
    "        \n",
    "show_conv_and_pool_layers(model)"
   ]
  },
  {
   "cell_type": "markdown",
   "metadata": {},
   "source": [
    "## Exercises"
   ]
  },
  {
   "cell_type": "markdown",
   "metadata": {},
   "source": [
    "### Exercise 1\n",
    "Try editing the convolutions. Change the 32s to either 16 or 64. What impact will this have on accuracy and/or training time."
   ]
  },
  {
   "cell_type": "code",
   "execution_count": 9,
   "metadata": {},
   "outputs": [
    {
     "name": "stdout",
     "output_type": "stream",
     "text": [
      "Model: \"sequential_2\"\n",
      "_________________________________________________________________\n",
      "Layer (type)                 Output Shape              Param #   \n",
      "=================================================================\n",
      "conv2d_2 (Conv2D)            (None, 26, 26, 64)        640       \n",
      "_________________________________________________________________\n",
      "max_pooling2d_2 (MaxPooling2 (None, 13, 13, 64)        0         \n",
      "_________________________________________________________________\n",
      "conv2d_3 (Conv2D)            (None, 11, 11, 64)        36928     \n",
      "_________________________________________________________________\n",
      "max_pooling2d_3 (MaxPooling2 (None, 5, 5, 64)          0         \n",
      "_________________________________________________________________\n",
      "flatten_2 (Flatten)          (None, 1600)              0         \n",
      "_________________________________________________________________\n",
      "dense_4 (Dense)              (None, 128)               204928    \n",
      "_________________________________________________________________\n",
      "dense_5 (Dense)              (None, 10)                1290      \n",
      "=================================================================\n",
      "Total params: 243,786\n",
      "Trainable params: 243,786\n",
      "Non-trainable params: 0\n",
      "_________________________________________________________________\n",
      "Epoch 1/5\n",
      "1875/1875 [==============================] - 49s 26ms/step - loss: 0.4389 - accuracy: 0.8400\n",
      "Epoch 2/5\n",
      "1875/1875 [==============================] - 49s 26ms/step - loss: 0.2945 - accuracy: 0.8930\n",
      "Epoch 3/5\n",
      "1875/1875 [==============================] - 48s 26ms/step - loss: 0.2504 - accuracy: 0.9082\n",
      "Epoch 4/5\n",
      "1875/1875 [==============================] - 59s 31ms/step - loss: 0.2178 - accuracy: 0.9189\n",
      "Epoch 5/5\n",
      "1875/1875 [==============================] - 57s 31ms/step - loss: 0.1912 - accuracy: 0.9287\n",
      "313/313 [==============================] - 2s 7ms/step - loss: 0.2749 - accuracy: 0.8998\n",
      "0.8998000025749207\n"
     ]
    }
   ],
   "source": [
    "model = models.Sequential([tf.keras.layers.Conv2D(64, (3,3), activation='relu', input_shape=(28,28,1)),\n",
    "                          tf.keras.layers.MaxPooling2D(2,2),\n",
    "                          tf.keras.layers.Conv2D(64, (3,3), activation='relu'),\n",
    "                          tf.keras.layers.MaxPooling2D(2,2),\n",
    "                          tf.keras.layers.Flatten(),\n",
    "                          tf.keras.layers.Dense(128, activation='relu'),\n",
    "                          tf.keras.layers.Dense(10, activation='softmax')])\n",
    "model.summary() # shows the size and shape of the network\n",
    "model.compile(optimizer='adam', loss='sparse_categorical_crossentropy', metrics=['accuracy'])\n",
    "model.fit(training_images, training_labels, epochs=5)\n",
    "test_loss, test_acc = model.evaluate(test_images, test_labels)\n",
    "print(test_acc)"
   ]
  },
  {
   "cell_type": "code",
   "execution_count": 10,
   "metadata": {},
   "outputs": [
    {
     "data": {
      "image/png": "[encoded data removed]",
      "text/plain": [
       "<Figure size 648x360 with 15 Axes>"
      ]
     },
     "metadata": {
      "needs_background": "light"
     },
     "output_type": "display_data"
    }
   ],
   "source": [
    "show_conv_and_pool_layers(model)"
   ]
  },
  {
   "cell_type": "markdown",
   "metadata": {},
   "source": [
    "### Answer:\n",
    "The accuracy is almost the same, but the training time is much longer."
   ]
  },
  {
   "cell_type": "markdown",
   "metadata": {},
   "source": [
    "### Exercise 2\n",
    "Remove the final Convolution. What impact will this have on accuracy or training time?"
   ]
  },
  {
   "cell_type": "code",
   "execution_count": 11,
   "metadata": {
    "scrolled": false
   },
   "outputs": [
    {
     "name": "stdout",
     "output_type": "stream",
     "text": [
      "Model: \"sequential_3\"\n",
      "_________________________________________________________________\n",
      "Layer (type)                 Output Shape              Param #   \n",
      "=================================================================\n",
      "conv2d_4 (Conv2D)            (None, 26, 26, 32)        320       \n",
      "_________________________________________________________________\n",
      "max_pooling2d_4 (MaxPooling2 (None, 13, 13, 32)        0         \n",
      "_________________________________________________________________\n",
      "flatten_3 (Flatten)          (None, 5408)              0         \n",
      "_________________________________________________________________\n",
      "dense_6 (Dense)              (None, 128)               692352    \n",
      "_________________________________________________________________\n",
      "dense_7 (Dense)              (None, 10)                1290      \n",
      "=================================================================\n",
      "Total params: 693,962\n",
      "Trainable params: 693,962\n",
      "Non-trainable params: 0\n",
      "_________________________________________________________________\n",
      "Epoch 1/5\n",
      "1875/1875 [==============================] - 22s 12ms/step - loss: 0.3995 - accuracy: 0.8579\n",
      "Epoch 2/5\n",
      "1875/1875 [==============================] - 20s 11ms/step - loss: 0.2709 - accuracy: 0.9028\n",
      "Epoch 3/5\n",
      "1875/1875 [==============================] - 22s 12ms/step - loss: 0.2276 - accuracy: 0.9177\n",
      "Epoch 4/5\n",
      "1875/1875 [==============================] - 24s 13ms/step - loss: 0.1941 - accuracy: 0.9288\n",
      "Epoch 5/5\n",
      "1875/1875 [==============================] - 29s 15ms/step - loss: 0.1682 - accuracy: 0.9375\n",
      "313/313 [==============================] - 2s 6ms/step - loss: 0.2594 - accuracy: 0.9092\n",
      "0.9092000126838684\n"
     ]
    }
   ],
   "source": [
    "model = models.Sequential([tf.keras.layers.Conv2D(32, (3,3), activation='relu', input_shape=(28,28,1)),\n",
    "                          tf.keras.layers.MaxPooling2D(2,2),\n",
    "                          tf.keras.layers.Flatten(),\n",
    "                          tf.keras.layers.Dense(128, activation='relu'),\n",
    "                          tf.keras.layers.Dense(10, activation='softmax')])\n",
    "model.summary() # shows the size and shape of the network\n",
    "model.compile(optimizer='adam', loss='sparse_categorical_crossentropy', metrics=['accuracy'])\n",
    "model.fit(training_images, training_labels, epochs=5)\n",
    "test_loss, test_acc = model.evaluate(test_images, test_labels)\n",
    "print(test_acc)"
   ]
  },
  {
   "cell_type": "code",
   "execution_count": 12,
   "metadata": {},
   "outputs": [
    {
     "data": {
      "image/png": "[encoded data removed]",
      "text/plain": [
       "<Figure size 648x360 with 9 Axes>"
      ]
     },
     "metadata": {
      "needs_background": "light"
     },
     "output_type": "display_data"
    }
   ],
   "source": [
    "show_conv_and_pool_layers(model)"
   ]
  },
  {
   "cell_type": "markdown",
   "metadata": {},
   "source": [
    "### Answer:\n",
    "The accuracy is a bit higher and but the training time is lower."
   ]
  },
  {
   "cell_type": "markdown",
   "metadata": {},
   "source": [
    "### Exercise 3\n",
    "How about adding more Convolutions? What impact do you think this will have? Experiment with it."
   ]
  },
  {
   "cell_type": "code",
   "execution_count": null,
   "metadata": {},
   "outputs": [
    {
     "name": "stdout",
     "output_type": "stream",
     "text": [
      "Model: \"sequential_4\"\n",
      "_________________________________________________________________\n",
      "Layer (type)                 Output Shape              Param #   \n",
      "=================================================================\n",
      "conv2d_5 (Conv2D)            (None, 26, 26, 32)        320       \n",
      "_________________________________________________________________\n",
      "max_pooling2d_5 (MaxPooling2 (None, 13, 13, 32)        0         \n",
      "_________________________________________________________________\n",
      "conv2d_6 (Conv2D)            (None, 11, 11, 64)        18496     \n",
      "_________________________________________________________________\n",
      "max_pooling2d_6 (MaxPooling2 (None, 5, 5, 64)          0         \n",
      "_________________________________________________________________\n",
      "conv2d_7 (Conv2D)            (None, 3, 3, 32)          18464     \n",
      "_________________________________________________________________\n",
      "max_pooling2d_7 (MaxPooling2 (None, 1, 1, 32)          0         \n",
      "_________________________________________________________________\n",
      "flatten_4 (Flatten)          (None, 32)                0         \n",
      "_________________________________________________________________\n",
      "dense_8 (Dense)              (None, 128)               4224      \n",
      "_________________________________________________________________\n",
      "dense_9 (Dense)              (None, 10)                1290      \n",
      "=================================================================\n",
      "Total params: 42,794\n",
      "Trainable params: 42,794\n",
      "Non-trainable params: 0\n",
      "_________________________________________________________________\n",
      "Epoch 1/5\n",
      "1875/1875 [==============================] - 37s 20ms/step - loss: 0.6083 - accuracy: 0.7776\n",
      "Epoch 2/5\n",
      "1875/1875 [==============================] - 32s 17ms/step - loss: 0.4112 - accuracy: 0.8482\n",
      "Epoch 3/5\n",
      " 951/1875 [==============>...............] - ETA: 17s - loss: 0.3679 - accuracy: 0.8618"
     ]
    }
   ],
   "source": [
    "model = models.Sequential([tf.keras.layers.Conv2D(32, (3,3), activation='relu', input_shape=(28,28,1)),\n",
    "                          tf.keras.layers.MaxPooling2D(2,2),\n",
    "                          tf.keras.layers.Conv2D(64, (3,3), activation='relu'),\n",
    "                          tf.keras.layers.MaxPooling2D(2,2),\n",
    "                          tf.keras.layers.Conv2D(32, (3,3), activation='relu'),\n",
    "                          tf.keras.layers.MaxPooling2D(2,2),\n",
    "                          tf.keras.layers.Flatten(),\n",
    "                          tf.keras.layers.Dense(128, activation='relu'),\n",
    "                          tf.keras.layers.Dense(10, activation='softmax')])\n",
    "model.summary() # shows the size and shape of the network\n",
    "model.compile(optimizer='adam', loss='sparse_categorical_crossentropy', metrics=['accuracy'])\n",
    "model.fit(training_images, training_labels, epochs=5)\n",
    "test_loss, test_acc = model.evaluate(test_images, test_labels)\n",
    "print(test_acc)"
   ]
  },
  {
   "cell_type": "code",
   "execution_count": null,
   "metadata": {},
   "outputs": [],
   "source": [
    "show_conv_and_pool_layers(model)"
   ]
  },
  {
   "cell_type": "markdown",
   "metadata": {},
   "source": [
    "### Answer:\n",
    "The training time is higher and but the accuracy is lower."
   ]
  },
  {
   "cell_type": "markdown",
   "metadata": {},
   "source": [
    "### Exercise 4\n",
    "In the previous lesson you implemented a callback to check on the loss function and to cancel training once it hit a certain amount. See if you can implement that here!"
   ]
  },
  {
   "cell_type": "code",
   "execution_count": null,
   "metadata": {
    "scrolled": false
   },
   "outputs": [],
   "source": [
    "class MyCallback(tf.keras.callbacks.Callback):\n",
    "    def on_epoch_end(self, epochs, logs={}):\n",
    "        if(logs.get('accuracy') > 0.9):\n",
    "            print(\"\\nReached 90% accuracy so cancelling training!\")\n",
    "            self.model.stop_training = True\n",
    "\n",
    "callbacks = MyCallback()\n",
    "\n",
    "model = models.Sequential([tf.keras.layers.Conv2D(32, (3,3), activation='relu', input_shape=(28,28,1)),\n",
    "                          tf.keras.layers.MaxPooling2D(2,2),\n",
    "                          tf.keras.layers.Conv2D(64, (3,3), activation='relu'),\n",
    "                          tf.keras.layers.MaxPooling2D(2,2),\n",
    "                          tf.keras.layers.Flatten(),\n",
    "                          tf.keras.layers.Dense(128, activation='relu'),\n",
    "                          tf.keras.layers.Dense(10, activation='softmax')])\n",
    "model.summary() # shows the size and shape of the network\n",
    "model.compile(optimizer='adam', loss='sparse_categorical_crossentropy', metrics=['accuracy'])\n",
    "model.fit(training_images, training_labels, epochs=5, callbacks=[callbacks])\n",
    "test_loss, test_acc = model.evaluate(test_images, test_labels)\n",
    "print(test_acc)"
   ]
  },
  {
   "cell_type": "code",
   "execution_count": null,
   "metadata": {},
   "outputs": [],
   "source": [
    "show_conv_and_pool_layers(model)"
   ]
  },
  {
   "cell_type": "markdown",
   "metadata": {},
   "source": [
    "### Answer:\n",
    "The implemnetation was successfull as before."
   ]
  },
  {
   "cell_type": "markdown",
   "metadata": {},
   "source": [
    "# Experiment with filters and pools"
   ]
  },
  {
   "cell_type": "markdown",
   "metadata": {},
   "source": [
    "## Imports"
   ]
  },
  {
   "cell_type": "code",
   "execution_count": null,
   "metadata": {},
   "outputs": [],
   "source": [
    "import cv2\n",
    "import numpy as np\n",
    "from scipy import misc\n",
    "img = misc.ascent()"
   ]
  },
  {
   "cell_type": "code",
   "execution_count": null,
   "metadata": {},
   "outputs": [],
   "source": [
    "plt.grid(False)\n",
    "plt.gray()\n",
    "plt.imshow(img)\n",
    "plt.show()"
   ]
  },
  {
   "cell_type": "markdown",
   "metadata": {},
   "source": [
    "The image is stored as a numpy array, so we can create the transformed image by just copying that array. Let's also get the dimensions of the image so we can loop over it later."
   ]
  },
  {
   "cell_type": "code",
   "execution_count": null,
   "metadata": {},
   "outputs": [],
   "source": [
    "img_transformed = np.copy(img)\n",
    "size_x = img_transformed.shape[0]\n",
    "size_y = img_transformed.shape[1]"
   ]
  },
  {
   "cell_type": "code",
   "execution_count": null,
   "metadata": {},
   "outputs": [],
   "source": [
    "# This filter detects edges nicely\n",
    "# It creates a convolution that only passes through sharp edges and straight\n",
    "# lines.\n",
    "\n",
    "#Experiment with different values for fun effects.\n",
    "#conv_filter = [ [0, 1, 0], [1, -4, 1], [0, 1, 0]]\n",
    "\n",
    "# A couple more filters to try for fun!\n",
    "#conv_filter = [ [-1, -2, -1], [0, 0, 0], [1, 2, 1]]\n",
    "conv_filter = [ [-1, 0, 1], [-2, 0, 2], [-1, 0, 1]]\n",
    "\n",
    "# If all the digits in the filter don't add up to 0 or 1, you \n",
    "# should probably do a weight to get it to do so\n",
    "# so, for example, if your weights are 1,1,1 1,2,1 1,1,1\n",
    "#conv_filter = [ [1, 1, 1], [1, 2, 1], [1, 1, 1]]\n",
    "# They add up to 10, so you would set a weight of .1 if you want to normalize them\n",
    "weight  = 1"
   ]
  },
  {
   "cell_type": "markdown",
   "metadata": {},
   "source": [
    "To create a convolution we'll iterate over the image, leaving a 1 pixel margin, and multiply out each of the neighbors of the current pixel by the value defined in the filter. Finally we'll load the new value into the transformed image."
   ]
  },
  {
   "cell_type": "code",
   "execution_count": null,
   "metadata": {},
   "outputs": [],
   "source": [
    "for i in range(1, size_x - 1):\n",
    "    for j in range(1, size_y - 1):\n",
    "        convolution = 0.0\n",
    "        convolution += conv_filter[0][0]*img[i - 1, j - 1]\n",
    "        convolution += conv_filter[0][1]*img[i - 1, j]\n",
    "        convolution += conv_filter[0][2]*img[i - 1, j + 1]\n",
    "        convolution += conv_filter[1][0]*img[i, j - 1]\n",
    "        convolution += conv_filter[1][1]*img[i, j]\n",
    "        convolution += conv_filter[1][2]*img[i, j + 1]\n",
    "        convolution += conv_filter[2][0]*img[i + 1, j - 1]\n",
    "        convolution += conv_filter[2][1]*img[i + 1, j]\n",
    "        convolution += conv_filter[2][2]*img[i + 1, j + 1]\n",
    "        convolution = convolution * weight #Normalizing the convolution value\n",
    "        #Ensure the result is in the range 0-255\n",
    "        if(convolution<0):\n",
    "            convolution=0\n",
    "        if(convolution>255):\n",
    "            convolution=255\n",
    "        img_transformed[i, j] = convolution"
   ]
  },
  {
   "cell_type": "markdown",
   "metadata": {},
   "source": [
    "Resulting image"
   ]
  },
  {
   "cell_type": "code",
   "execution_count": null,
   "metadata": {
    "scrolled": true
   },
   "outputs": [],
   "source": [
    "plt.gray()\n",
    "plt.grid(False)\n",
    "plt.imshow(img_transformed)\n",
    "plt.show()"
   ]
  },
  {
   "cell_type": "code",
   "execution_count": null,
   "metadata": {},
   "outputs": [],
   "source": [
    "new_x = int(size_x/2)\n",
    "new_y = int(size_y/2)\n",
    "new_image = np.zeros((new_x, new_y))\n",
    "for i in range(0, size_x, 2):\n",
    "    for j in range(0, size_y, 2):\n",
    "        pixels = []\n",
    "        pixels.append(img_transformed[i,j])\n",
    "        pixels.append(img_transformed[i,j + 1])\n",
    "        pixels.append(img_transformed[i + 1,j])\n",
    "        pixels.append(img_transformed[i + 1,j + 1])\n",
    "        new_image[int(i/2), int(j/2)] = max(pixels)\n",
    "        \n",
    "# Plot the image\n",
    "plt.gray()\n",
    "plt.grid(False)\n",
    "plt.imshow(new_image)\n",
    "plt.show()            "
   ]
  }
 ],
 "metadata": {
  "kernelspec": {
   "display_name": "Python 3",
   "language": "python",
   "name": "python3"
  },
  "language_info": {
   "codemirror_mode": {
    "name": "ipython",
    "version": 3
   },
   "file_extension": ".py",
   "mimetype": "text/x-python",
   "name": "python",
   "nbconvert_exporter": "python",
   "pygments_lexer": "ipython3",
   "version": "3.6.9"
  }
 },
 "nbformat": 4,
 "nbformat_minor": 4
}
